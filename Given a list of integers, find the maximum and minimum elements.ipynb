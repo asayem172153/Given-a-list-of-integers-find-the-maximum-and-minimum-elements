{
  "nbformat": 4,
  "nbformat_minor": 0,
  "metadata": {
    "colab": {
      "provenance": []
    },
    "kernelspec": {
      "name": "python3",
      "display_name": "Python 3"
    },
    "language_info": {
      "name": "python"
    }
  },
  "cells": [
    {
      "cell_type": "markdown",
      "source": [
        "**General Approach**"
      ],
      "metadata": {
        "id": "fW7jZXdBVhdC"
      }
    },
    {
      "cell_type": "code",
      "execution_count": 9,
      "metadata": {
        "id": "wiDKpetiVJ_h"
      },
      "outputs": [],
      "source": [
        "lst = [23, 17, 5, 42, 10, 33, 8, 19, 27, 13, 31]\n",
        "\n",
        "max = -999 # positive_infinity = float('inf') -->for python\n",
        "\n",
        "min = 999 # negative_infinity = float('-inf') --> for python"
      ]
    },
    {
      "cell_type": "code",
      "source": [
        "#finding min & max\n",
        "\n",
        "for i in lst:\n",
        "  if i > max :\n",
        "    max = i\n",
        "print(\"Max is\",max)"
      ],
      "metadata": {
        "colab": {
          "base_uri": "https://localhost:8080/"
        },
        "outputId": "a8647431-0e6f-412e-cbae-7a2e233343a4",
        "id": "prhl5JpkiRHD"
      },
      "execution_count": 12,
      "outputs": [
        {
          "output_type": "stream",
          "name": "stdout",
          "text": [
            "Max is 42\n"
          ]
        }
      ]
    },
    {
      "cell_type": "code",
      "source": [
        "# finding min\n",
        "\n",
        "for i in lst:\n",
        "  if i < min :\n",
        "    min = i\n",
        "\n",
        "print(\"Min is\",min)"
      ],
      "metadata": {
        "colab": {
          "base_uri": "https://localhost:8080/"
        },
        "id": "Mx9Q2Bl4W8d_",
        "outputId": "2e689715-8220-4bbf-c96c-fc50224a469c"
      },
      "execution_count": 4,
      "outputs": [
        {
          "output_type": "stream",
          "name": "stdout",
          "text": [
            "Min is 5\n"
          ]
        }
      ]
    },
    {
      "cell_type": "code",
      "source": [
        "#finding min & max in one loop\n",
        "\n",
        "for i in lst:\n",
        "  if i > max :\n",
        "    max = i\n",
        "  if i < min :\n",
        "    min = i\n",
        "print('Min is', min ,\"Max is\",max)"
      ],
      "metadata": {
        "colab": {
          "base_uri": "https://localhost:8080/"
        },
        "id": "7inmzigYWFl5",
        "outputId": "00ebd779-b3d0-4fbc-c3bf-69b63e1dd307"
      },
      "execution_count": null,
      "outputs": [
        {
          "output_type": "stream",
          "name": "stdout",
          "text": [
            "Min is 5 Max is 42\n"
          ]
        }
      ]
    },
    {
      "cell_type": "markdown",
      "source": [
        "**Using Sorting method**"
      ],
      "metadata": {
        "id": "rleqlYLBgilw"
      }
    },
    {
      "cell_type": "code",
      "source": [
        "# we can use Sort to find min max\n",
        "lst = [23, 17, 5, 42, 10, 33, 8, 19, 27, 13, 31]\n",
        "lst = sorted(lst) # we use bilt in sorted mathod\n",
        "\n",
        "# we can use sort algorithm to sort the list\n",
        "\n",
        "min = lst[0]\n",
        "max = lst[-1]\n",
        "\n",
        "print('Min',min,'Max',max)"
      ],
      "metadata": {
        "colab": {
          "base_uri": "https://localhost:8080/"
        },
        "id": "sq6ALXmEgqJ9",
        "outputId": "1ef01a58-c415-47d3-fcb3-0f4acbcee526"
      },
      "execution_count": 14,
      "outputs": [
        {
          "output_type": "stream",
          "name": "stdout",
          "text": [
            "Min 5 Max 42\n"
          ]
        }
      ]
    }
  ]
}